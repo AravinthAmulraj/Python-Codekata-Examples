{
 "cells": [
  {
   "cell_type": "markdown",
   "id": "b4ccdd04",
   "metadata": {},
   "source": [
    "1)You are given with an circular array .Your task is calculate the difference between two consecutive number. And if difference is greater than ‘k’, print 1 else print 0\n",
    "\n",
    "Input Description:\n",
    "You are given two numbers ‘n’, ’m’. Next line contains n space separated integers.\n",
    "\n",
    "Output Description:\n",
    "Print 1 if the difference is greater than ‘m’.\n",
    "\n",
    "Sample Input :\n",
    "5 15\n",
    "50 65 85 98 35\n",
    "Sample Output :\n",
    "0 1 0 1 0"
   ]
  },
  {
   "cell_type": "code",
   "execution_count": 3,
   "id": "21895e3c",
   "metadata": {},
   "outputs": [
    {
     "name": "stdout",
     "output_type": "stream",
     "text": [
      "5 15\n",
      "50 65 85 98 35\n",
      "0 1 0 1 0\n"
     ]
    }
   ],
   "source": [
    "n,k = map(int,input().split())\n",
    "a = list(map(int,input().split()))\n",
    "arr = []\n",
    "for i in range(n-1):\n",
    "    if abs(a[i]-a[i+1])>k:\n",
    "        arr.append(1)\n",
    "    else:\n",
    "        arr.append(0)\n",
    "arr1 = a[-1]-a[0]\n",
    "if abs(arr1)>k:\n",
    "    arr.append(1)\n",
    "else:\n",
    "    arr.append(0)\n",
    "print(*arr)"
   ]
  },
  {
   "cell_type": "code",
   "execution_count": null,
   "id": "0790ea4b",
   "metadata": {},
   "outputs": [],
   "source": []
  },
  {
   "cell_type": "markdown",
   "id": "f21019ec",
   "metadata": {},
   "source": [
    "2)You are a passport issuer, but due to some problems in the system, there are redundant  passport numbers. Your task is to delete all the duplicate passport numbers. You are given a list of passport numbers.\n",
    "\n",
    "Input Description:\n",
    "You are given length of list.Second line,You are given with a list.\n",
    "\n",
    "Output Description:\n",
    "Print the list of passport numbers without duplicates.\n",
    "\n",
    "Sample Input :\n",
    "5\n",
    "A23 B56 B56 C79 D16\n",
    "Sample Output :\n",
    "A23 B56 C79 D16"
   ]
  },
  {
   "cell_type": "code",
   "execution_count": 4,
   "id": "0b78fbca",
   "metadata": {},
   "outputs": [
    {
     "name": "stdout",
     "output_type": "stream",
     "text": [
      "5\n",
      "A23 B56 B56 C79 D16\n",
      "A23 B56 C79 D16\n"
     ]
    }
   ],
   "source": [
    "a = int(input())\n",
    "arr = list(map(str,input().split()))\n",
    "c = []\n",
    "for i in arr:\n",
    "    if i not in c:\n",
    "        c.append(i)\n",
    "print(*c)"
   ]
  },
  {
   "cell_type": "code",
   "execution_count": null,
   "id": "25b8e259",
   "metadata": {},
   "outputs": [],
   "source": []
  },
  {
   "cell_type": "markdown",
   "id": "e303ba08",
   "metadata": {},
   "source": [
    "3)You are given an array of non-negative integers representing height of walls at index i as Ai and the width of each block is 1. Compute how much air can be encapsulated between the walls of chamber.\n",
    "\n",
    " \n",
    "\n",
    "Input Description:\n",
    "Each line contains an integer ‘N’ denoting the size of the array Next line contains N space separated numbers to be stored in array.\n",
    "\n",
    "Output Description:\n",
    "Output the total unit of Air encapsulated between the walls of chamber.\n",
    "\n",
    "Sample Input :\n",
    "3\n",
    "7 4 9\n",
    "Sample Output :\n",
    "3"
   ]
  },
  {
   "cell_type": "code",
   "execution_count": 5,
   "id": "e7275040",
   "metadata": {},
   "outputs": [
    {
     "name": "stdout",
     "output_type": "stream",
     "text": [
      "3\n",
      "7 4 9\n",
      "3\n"
     ]
    }
   ],
   "source": [
    "n = int(input())\n",
    "l = [int(x) for x in input().split()]\n",
    "a = 0\n",
    "for i in range(1, len(l)-1):\n",
    "    if l[i] < l[i-1] and l[i] < l[i+1]:\n",
    "        a += min(l[i+1], l[i-1]) - l[i]\n",
    "print(a)"
   ]
  },
  {
   "cell_type": "code",
   "execution_count": null,
   "id": "02637289",
   "metadata": {},
   "outputs": [],
   "source": []
  },
  {
   "cell_type": "markdown",
   "id": "ad58e127",
   "metadata": {},
   "source": [
    "4)you are given with array of numbers.you have to find whether array is beautiful or not. A beautiful array is an array whose sum of all numbers is divisible by 2, 3 and 5\n",
    "\n",
    "Input Description:\n",
    "You are given a number ‘n’ denoting the size of array.Next line contains n space separated numbers.\n",
    "\n",
    "Output Description:\n",
    "Print 1 if array is beautiful and 0 if it is not\n",
    "\n",
    "Sample Input :\n",
    "5\n",
    "5 25 35 -5 30\n",
    "Sample Output :\n",
    "1"
   ]
  },
  {
   "cell_type": "code",
   "execution_count": 6,
   "id": "7ebc81c5",
   "metadata": {},
   "outputs": [
    {
     "name": "stdout",
     "output_type": "stream",
     "text": [
      "5\n",
      "5 25 35 -5 30\n",
      "1\n"
     ]
    }
   ],
   "source": [
    "a = int(input())\n",
    "arr = list(map(int,input().split()))\n",
    "if sum(arr)%2==0 and sum(arr)%3==0 and sum(arr)%5==0:\n",
    "    print(1)\n",
    "else:\n",
    "    print(0)"
   ]
  },
  {
   "cell_type": "code",
   "execution_count": null,
   "id": "f16d6e9b",
   "metadata": {},
   "outputs": [],
   "source": []
  },
  {
   "cell_type": "markdown",
   "id": "873c529c",
   "metadata": {},
   "source": [
    "5)You are given with an array. For each element present in the array your task is to print the next smallest than that number. If it is not smallest print -1\n",
    "\n",
    "Input Description:\n",
    "You are given a number ‘n’ representing size of array. And n space separated numbers.\n",
    "\n",
    "Output Description:\n",
    "Print the next smallest number present in array and -1 if no smallest is present\n",
    "\n",
    "Sample Input :\n",
    "7\n",
    "10 7 9 3 2 1 15\n",
    "Sample Output :\n",
    "7 3 3 2 1 -1 -1"
   ]
  },
  {
   "cell_type": "code",
   "execution_count": 9,
   "id": "38b45fa7",
   "metadata": {},
   "outputs": [
    {
     "name": "stdout",
     "output_type": "stream",
     "text": [
      "7\n",
      "10 7 9 3 2 1 15\n",
      "7 3 3 2 1 -1 -1\n"
     ]
    }
   ],
   "source": [
    "a = int(input())\n",
    "arr = list(map(int,input().split()))\n",
    "c = []\n",
    "for i in range(a):\n",
    "    v = 0\n",
    "    for j in range(i,a):\n",
    "        if arr[i]>arr[j]:\n",
    "            v = arr[j]\n",
    "            break\n",
    "        else:\n",
    "            v = -1\n",
    "    c.append(v)\n",
    "print(*c)"
   ]
  },
  {
   "cell_type": "code",
   "execution_count": null,
   "id": "e157fb68",
   "metadata": {},
   "outputs": [],
   "source": []
  },
  {
   "cell_type": "markdown",
   "id": "ed2689d0",
   "metadata": {},
   "source": [
    "6)You are given with an array of numbers, Your task is to print the difference of indices of largest and smallest number.All number are unique.\n",
    "\n",
    "Input Description:\n",
    "First line contains a number ‘n’. Then next line contains n space separated numbers.\n",
    "\n",
    "Output Description:\n",
    "Print the difference of indices of largest and smallest array\n",
    "\n",
    "Sample Input :\n",
    "5\n",
    "1 6 4 0 3\n",
    "Sample Output :\n",
    "-2"
   ]
  },
  {
   "cell_type": "code",
   "execution_count": 10,
   "id": "98945cd5",
   "metadata": {},
   "outputs": [
    {
     "name": "stdout",
     "output_type": "stream",
     "text": [
      "5\n",
      "1 6 4 0 3\n",
      "-2\n"
     ]
    }
   ],
   "source": [
    "a = int(input())\n",
    "arr = list(map(int,input().split()))\n",
    "print(arr.index(max(arr))-(arr.index(min(arr))))"
   ]
  },
  {
   "cell_type": "code",
   "execution_count": null,
   "id": "8a414b92",
   "metadata": {},
   "outputs": [],
   "source": []
  },
  {
   "cell_type": "markdown",
   "id": "efea1f0d",
   "metadata": {},
   "source": [
    "7)Pk finds it difficult to judge the minimum element in the list of elements given to him. Your task is to develop the algorithm in order to find the minimum element.\n",
    "\n",
    "Note:Don’t use sorting\n",
    " \n",
    "Input Description:\n",
    "You are given ‘n’ number of elements. Next line contains n space separated numbers.\n",
    "\n",
    "Output Description:\n",
    "Print the minimum element\n",
    "\n",
    "Sample Input :\n",
    "5\n",
    "3 4 9 1 6\n",
    "Sample Output :\n",
    "1"
   ]
  },
  {
   "cell_type": "code",
   "execution_count": 11,
   "id": "0c4c39c1",
   "metadata": {},
   "outputs": [
    {
     "name": "stdout",
     "output_type": "stream",
     "text": [
      "5\n",
      "3 4 9 1 6\n",
      "1\n"
     ]
    }
   ],
   "source": [
    "n = int(input())\n",
    "arr = list(map(int,input().split()))\n",
    "print(min(arr))"
   ]
  },
  {
   "cell_type": "code",
   "execution_count": null,
   "id": "ffb4caff",
   "metadata": {},
   "outputs": [],
   "source": []
  },
  {
   "cell_type": "markdown",
   "id": "3f9b4cbd",
   "metadata": {},
   "source": [
    "8)You are given with two arrays. Your task is to merge the array such that first array is in ascending order and second one in descending order.\n",
    "\n",
    "Input Description:\n",
    "First line contains two integer ‘n’ and ‘m’. ‘n’ denotes length of array 1 and ‘m’ of array 2.Next line contains n space separated numbers and third line contains ‘m’ space separated numbers\n",
    "\n",
    "Output Description:\n",
    "Print a single array in desired order\n",
    "\n",
    "Sample Input :\n",
    "3 3\n",
    "23 15 16\n",
    "357 65 10\n",
    "Sample Output :\n",
    "15 16 23 357 65 10"
   ]
  },
  {
   "cell_type": "code",
   "execution_count": 13,
   "id": "6e6db600",
   "metadata": {},
   "outputs": [
    {
     "name": "stdout",
     "output_type": "stream",
     "text": [
      "3 3\n",
      "23 15 16\n",
      "357 65 10\n",
      "15 16 23 357 65 10\n"
     ]
    }
   ],
   "source": [
    "a =  input()\n",
    "arr1 = list(map(int,input().split()))\n",
    "arr2 = list(map(int,input().split()))\n",
    "arr1.sort()\n",
    "arr2.sort(reverse=True)\n",
    "c = arr1+arr2\n",
    "print(*c)"
   ]
  },
  {
   "cell_type": "code",
   "execution_count": null,
   "id": "849de0e1",
   "metadata": {},
   "outputs": [],
   "source": []
  },
  {
   "cell_type": "markdown",
   "id": "e8ee5083",
   "metadata": {},
   "source": [
    "11)You are provided with an array in which all elements are repeated thrice except one which is repeated twice.Your task is to print that number.\n",
    "\n",
    "O(n) time and O(1) extra space\n",
    "\n",
    "Input Description:\n",
    "First line contains a number denoting size of array ‘n’.Next line contains n space separated numbers\n",
    "\n",
    "Output Description:\n",
    "Print the number which is repeated twice\n",
    "\n",
    "Sample Input :\n",
    "5\n",
    "13 12 13 12 13\n",
    "Sample Output :\n",
    "12"
   ]
  },
  {
   "cell_type": "code",
   "execution_count": 14,
   "id": "1594d590",
   "metadata": {},
   "outputs": [
    {
     "name": "stdout",
     "output_type": "stream",
     "text": [
      "5\n",
      "13 12 13 12 13\n",
      "12\n"
     ]
    }
   ],
   "source": [
    "a = input()\n",
    "arr = list(map(int,input().split()))\n",
    "c = []\n",
    "for i in arr:\n",
    "    if arr.count(i)==2:\n",
    "        if i not in c:\n",
    "            c.append(i)\n",
    "if len(c) >= 1:\n",
    "    print(*c)\n",
    "    "
   ]
  },
  {
   "cell_type": "code",
   "execution_count": null,
   "id": "9599ecac",
   "metadata": {},
   "outputs": [],
   "source": []
  },
  {
   "cell_type": "markdown",
   "id": "53dd93d1",
   "metadata": {},
   "source": [
    "12)You are given a number with duplicate digits your task is to remove the immediate duplicate digits and print the result\n",
    "\n",
    "Input Description:\n",
    "You are given a long string of digits\n",
    "\n",
    "Output Description:\n",
    "Print the desired result print -1 if result length is 0\n",
    "\n",
    "Sample Input :\n",
    "1331\n",
    "Sample Output :\n",
    "11"
   ]
  },
  {
   "cell_type": "code",
   "execution_count": 15,
   "id": "930b4d45",
   "metadata": {},
   "outputs": [
    {
     "name": "stdout",
     "output_type": "stream",
     "text": [
      "1331\n",
      "11"
     ]
    }
   ],
   "source": [
    "s = str(input())\n",
    "for i in range(len(s)):\n",
    "    if i == 0:\n",
    "        if s[i] == s[i+1]:\n",
    "            continue\n",
    "        else:\n",
    "            print(s[i], end = \"\")\n",
    "    elif i == len(s)-1:\n",
    "        if s[len(s)-1] == s[len(s)-2]:\n",
    "            continue\n",
    "        else:\n",
    "            print(s[i], end = \"\")\n",
    "    else:\n",
    "        if s[i] == s[i-1] or s[i] == s[i+1]:\n",
    "            continue\n",
    "        else:\n",
    "            print(s[i], end = \"\")"
   ]
  },
  {
   "cell_type": "code",
   "execution_count": null,
   "id": "4b610a2b",
   "metadata": {},
   "outputs": [],
   "source": []
  },
  {
   "cell_type": "code",
   "execution_count": null,
   "id": "bc10a8c2",
   "metadata": {},
   "outputs": [],
   "source": []
  },
  {
   "cell_type": "code",
   "execution_count": null,
   "id": "13282b07",
   "metadata": {},
   "outputs": [],
   "source": []
  },
  {
   "cell_type": "code",
   "execution_count": null,
   "id": "06cc0063",
   "metadata": {},
   "outputs": [],
   "source": []
  },
  {
   "cell_type": "code",
   "execution_count": null,
   "id": "6317d4e2",
   "metadata": {},
   "outputs": [],
   "source": []
  },
  {
   "cell_type": "code",
   "execution_count": null,
   "id": "3fab4863",
   "metadata": {},
   "outputs": [],
   "source": []
  }
 ],
 "metadata": {
  "kernelspec": {
   "display_name": "Python 3 (ipykernel)",
   "language": "python",
   "name": "python3"
  },
  "language_info": {
   "codemirror_mode": {
    "name": "ipython",
    "version": 3
   },
   "file_extension": ".py",
   "mimetype": "text/x-python",
   "name": "python",
   "nbconvert_exporter": "python",
   "pygments_lexer": "ipython3",
   "version": "3.9.12"
  }
 },
 "nbformat": 4,
 "nbformat_minor": 5
}
